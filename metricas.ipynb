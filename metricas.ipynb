{
  "nbformat": 4,
  "nbformat_minor": 0,
  "metadata": {
    "colab": {
      "provenance": [],
      "authorship_tag": "ABX9TyN/QukbIuHf28/E3nVSrjbi",
      "include_colab_link": true
    },
    "kernelspec": {
      "name": "python3",
      "display_name": "Python 3"
    },
    "language_info": {
      "name": "python"
    }
  },
  "cells": [
    {
      "cell_type": "markdown",
      "metadata": {
        "id": "view-in-github",
        "colab_type": "text"
      },
      "source": [
        "<a href=\"https://colab.research.google.com/github/Vanessa-Gonzaga/Vanessa-Gonzaga/blob/main/metricas.ipynb\" target=\"_parent\"><img src=\"https://colab.research.google.com/assets/colab-badge.svg\" alt=\"Open In Colab\"/></a>"
      ]
    },
    {
      "cell_type": "code",
      "execution_count": 1,
      "metadata": {
        "colab": {
          "base_uri": "https://localhost:8080/"
        },
        "id": "lIa7GuCEIAL3",
        "outputId": "34925772-e635-4b83-c2e6-bd205301b5df"
      },
      "outputs": [
        {
          "output_type": "stream",
          "name": "stdout",
          "text": [
            "Acurácia: 0.7333333333333333\n",
            "Sensibilidade: 0.5833333333333334\n",
            "Especificidade: 0.8333333333333334\n",
            "Precisão: 0.7\n",
            "F-Score: 0.6363636363636365\n"
          ]
        }
      ],
      "source": [
        "def calcular_metricas(vp, vn, fp, fn):\n",
        "    acuracia = (vp + vn) / (vp + vn + fp + fn)\n",
        "    sensibilidade = vp / (vp + fn)\n",
        "    especificidade = vn / (vn + fp)\n",
        "    precisao = vp / (vp + fp)\n",
        "    f_score = 2 * (precisao * sensibilidade) / (precisao + sensibilidade)\n",
        "    \n",
        "    return acuracia, sensibilidade, especificidade, precisao, f_score\n",
        "\n",
        "# Valores da matriz de confusão\n",
        "vp = 70\n",
        "vn = 150\n",
        "fp = 30\n",
        "fn = 50\n",
        "\n",
        "# Chamada da função para calcular as métricas\n",
        "acuracia, sensibilidade, especificidade, precisao, f_score = calcular_metricas(vp, vn, fp, fn)\n",
        "\n",
        "# Exibindo os resultados\n",
        "print(\"Acurácia:\", acuracia)\n",
        "print(\"Sensibilidade:\", sensibilidade)\n",
        "print(\"Especificidade:\", especificidade)\n",
        "print(\"Precisão:\", precisao)\n",
        "print(\"F-Score:\", f_score)\n"
      ]
    }
  ]
}